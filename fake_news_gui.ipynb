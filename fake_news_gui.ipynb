{
 "cells": [
  {
   "cell_type": "markdown",
   "metadata": {},
   "source": [
    "\n",
    "\n",
    "class Application(Frame):\n",
    "    def say_hi(self):\n",
    "        print(\"hi there, everyone!\")\n",
    "        \n",
    "\n",
    "    def createWidgets(self):\n",
    "        self.QUIT = Button(self)\n",
    "        self.QUIT[\"text\"] = \"QUIT\"\n",
    "        self.QUIT[\"fg\"]   = \"red\"\n",
    "        self.QUIT[\"command\"] =  self.quit\n",
    "\n",
    "        self.QUIT.pack({\"side\": \"left\"})\n",
    "\n",
    "        self.hi_there = Button(self)\n",
    "        self.hi_there[\"text\"] = \"Hello\",\n",
    "        self.hi_there[\"command\"] = self.say_hi()\n",
    "\n",
    "        self.hi_there.pack({\"side\": \"left\"})\n",
    "\n",
    "    def __init__(self, master=None):\n",
    "        Frame.__init__(self, master)\n",
    "        self.pack()\n",
    "        self.createWidgets()\n",
    "\n",
    "root = Tk()\n",
    "app = Application(master=root)\n",
    "app.mainloop()\n",
    "root.destroy()"
   ]
  },
  {
   "cell_type": "code",
   "execution_count": 7,
   "metadata": {},
   "outputs": [],
   "source": [
    "from tkinter import *"
   ]
  },
  {
   "cell_type": "code",
   "execution_count": 38,
   "metadata": {},
   "outputs": [],
   "source": [
    "def print_submit(event):\n",
    "    print(\"Submitted Succesfully!!\")"
   ]
  },
  {
   "cell_type": "code",
   "execution_count": 12,
   "metadata": {},
   "outputs": [
    {
     "data": {
      "text/plain": [
       "'C:\\\\Users\\\\lenovo\\\\Documents'"
      ]
     },
     "execution_count": 12,
     "metadata": {},
     "output_type": "execute_result"
    }
   ],
   "source": [
    "%pwd"
   ]
  },
  {
   "cell_type": "code",
   "execution_count": 23,
   "metadata": {},
   "outputs": [
    {
     "name": "stderr",
     "output_type": "stream",
     "text": [
      "ERROR:root:File `'Day4_Notes.ipynb.py'` not found.\n"
     ]
    }
   ],
   "source": [
    "%run Day4_Notes.ipynb"
   ]
  },
  {
   "cell_type": "code",
   "execution_count": 9,
   "metadata": {},
   "outputs": [
    {
     "ename": "ModuleNotFoundError",
     "evalue": "No module named 'Day4_Notes'",
     "output_type": "error",
     "traceback": [
      "\u001b[1;31m---------------------------------------------------------------------------\u001b[0m",
      "\u001b[1;31mModuleNotFoundError\u001b[0m                       Traceback (most recent call last)",
      "\u001b[1;32m<ipython-input-9-889ef38df8eb>\u001b[0m in \u001b[0;36m<module>\u001b[1;34m()\u001b[0m\n\u001b[0;32m      1\u001b[0m \u001b[1;32mimport\u001b[0m \u001b[0mimport_ipynb\u001b[0m\u001b[1;33m\u001b[0m\u001b[0m\n\u001b[1;32m----> 2\u001b[1;33m \u001b[1;32mimport\u001b[0m \u001b[0mDay4_Notes\u001b[0m\u001b[1;33m\u001b[0m\u001b[0m\n\u001b[0m",
      "\u001b[1;31mModuleNotFoundError\u001b[0m: No module named 'Day4_Notes'"
     ]
    }
   ],
   "source": [
    "import import_ipynb\n",
    "import Day4_Notes"
   ]
  },
  {
   "cell_type": "code",
   "execution_count": 41,
   "metadata": {},
   "outputs": [],
   "source": [
    "\n",
    "window = Tk()\n",
    "\n",
    "topFrame = Frame(window)\n",
    "topFrame.pack()\n",
    "\n",
    "bottomFrame = Frame(window, width =300, height = 150)\n",
    "bottomFrame.pack(side = BOTTOM)\n",
    "\n",
    "entry_title = Entry(topFrame, text = \"Enter title\")\n",
    "entry_text = Entry(topFrame, text = \"Enter text\")\n",
    "\n",
    "button_submit = Button(bottomFrame, text = \"Submit\", fg =\"red\")\n",
    "button_more = Button(bottomFrame, text = \"Check more News\")\n",
    "button_quit = Button(bottomFrame, text=\"QUIT\", fg = \"red\")\n",
    "\n",
    "check_box = Checkbutton(topFrame, text = \"I Agree to the Terms & Conditions\")\n",
    "\n",
    "label_title = Label(topFrame, text = \"Here goes the title!!\", bg = \"white\")\n",
    "label_text = Label(topFrame, text = \"Here goes the text!!\", bg = \"white\")\n",
    "\n",
    "#fill = BOTH, expand = True\n",
    "\n",
    "label_title.grid(row = 0)\n",
    "label_text.grid(row = 1)\n",
    "\n",
    "entry_title.grid(row = 0, column = 2)\n",
    "entry_text.grid(row= 1, column = 2)\n",
    "\n",
    "check_box.grid(columnspan = 5)\n",
    "\n",
    "button_submit.bind(\"<Button-1>\",print_submit)\n",
    "\n",
    "button_submit.grid(row = 0)\n",
    "button_more.grid(row = 0, column = 2)\n",
    "button_quit.grid(row = 0, column = 4)\n",
    "\n",
    "window.mainloop()"
   ]
  }
 ],
 "metadata": {
  "kernelspec": {
   "display_name": "Python 3",
   "language": "python",
   "name": "python3"
  },
  "language_info": {
   "codemirror_mode": {
    "name": "ipython",
    "version": 3
   },
   "file_extension": ".py",
   "mimetype": "text/x-python",
   "name": "python",
   "nbconvert_exporter": "python",
   "pygments_lexer": "ipython3",
   "version": "3.6.5"
  }
 },
 "nbformat": 4,
 "nbformat_minor": 2
}
